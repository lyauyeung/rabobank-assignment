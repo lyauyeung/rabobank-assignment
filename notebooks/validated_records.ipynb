{
 "cells": [
  {
   "cell_type": "markdown",
   "id": "a9611fa5-8946-4a82-a384-39d0af41199f",
   "metadata": {},
   "source": [
    "# Validate Records"
   ]
  },
  {
   "cell_type": "code",
   "execution_count": 1,
   "id": "ea662495-80a2-4ec2-83ee-03f572209668",
   "metadata": {},
   "outputs": [],
   "source": [
    "import findspark\n",
    "findspark.init()\n",
    "import pyspark\n",
    "import pyspark.sql.functions as F\n",
    "\n",
    "from pyspark.sql.types import *"
   ]
  },
  {
   "cell_type": "code",
   "execution_count": 3,
   "id": "c36220ae-03bf-4395-bac0-811cce7512bd",
   "metadata": {},
   "outputs": [
    {
     "name": "stdout",
     "output_type": "stream",
     "text": [
      ":: loading settings :: url = jar:file:/Users/leyiauyeung/.pyenv/versions/3.12.4/envs/rabobank-env/lib/python3.12/site-packages/pyspark/jars/ivy-2.5.1.jar!/org/apache/ivy/core/settings/ivysettings.xml\n"
     ]
    },
    {
     "name": "stderr",
     "output_type": "stream",
     "text": [
      "Ivy Default Cache set to: /Users/leyiauyeung/.ivy2/cache\n",
      "The jars for the packages stored in: /Users/leyiauyeung/.ivy2/jars\n",
      "org.apache.hadoop#hadoop-azure added as a dependency\n",
      "com.microsoft.azure#azure-storage added as a dependency\n",
      "org.postgresql#postgresql added as a dependency\n",
      ":: resolving dependencies :: org.apache.spark#spark-submit-parent-dc675932-20d1-42f8-bb45-9d1d0fca920c;1.0\n",
      "\tconfs: [default]\n",
      "\tfound org.apache.hadoop#hadoop-azure;3.3.1 in central\n",
      "\tfound org.apache.httpcomponents#httpclient;4.5.13 in central\n",
      "\tfound org.apache.httpcomponents#httpcore;4.4.13 in central\n",
      "\tfound commons-logging#commons-logging;1.1.3 in central\n",
      "\tfound commons-codec#commons-codec;1.11 in central\n",
      "\tfound org.apache.hadoop.thirdparty#hadoop-shaded-guava;1.1.1 in central\n",
      "\tfound org.eclipse.jetty#jetty-util-ajax;9.4.40.v20210413 in central\n",
      "\tfound org.eclipse.jetty#jetty-util;9.4.40.v20210413 in central\n",
      "\tfound org.codehaus.jackson#jackson-mapper-asl;1.9.13 in central\n",
      "\tfound org.codehaus.jackson#jackson-core-asl;1.9.13 in central\n",
      "\tfound org.wildfly.openssl#wildfly-openssl;1.0.7.Final in central\n",
      "\tfound com.microsoft.azure#azure-storage;8.6.6 in central\n",
      "\tfound com.fasterxml.jackson.core#jackson-core;2.9.4 in central\n",
      "\tfound org.slf4j#slf4j-api;1.7.12 in central\n",
      "\tfound org.apache.commons#commons-lang3;3.4 in central\n",
      "\tfound com.microsoft.azure#azure-keyvault-core;1.2.4 in central\n",
      "\tfound com.google.guava#guava;24.1.1-jre in central\n",
      "\tfound com.google.code.findbugs#jsr305;1.3.9 in central\n",
      "\tfound org.checkerframework#checker-compat-qual;2.0.0 in central\n",
      "\tfound com.google.errorprone#error_prone_annotations;2.1.3 in central\n",
      "\tfound com.google.j2objc#j2objc-annotations;1.1 in central\n",
      "\tfound org.codehaus.mojo#animal-sniffer-annotations;1.14 in central\n",
      "\tfound org.postgresql#postgresql;42.7.3 in central\n",
      "\tfound org.checkerframework#checker-qual;3.42.0 in central\n",
      "downloading https://repo1.maven.org/maven2/org/postgresql/postgresql/42.7.3/postgresql-42.7.3.jar ...\n",
      "\t[SUCCESSFUL ] org.postgresql#postgresql;42.7.3!postgresql.jar (1611ms)\n",
      "downloading https://repo1.maven.org/maven2/org/checkerframework/checker-qual/3.42.0/checker-qual-3.42.0.jar ...\n",
      "\t[SUCCESSFUL ] org.checkerframework#checker-qual;3.42.0!checker-qual.jar (224ms)\n",
      ":: resolution report :: resolve 27335ms :: artifacts dl 2776ms\n",
      "\t:: modules in use:\n",
      "\tcom.fasterxml.jackson.core#jackson-core;2.9.4 from central in [default]\n",
      "\tcom.google.code.findbugs#jsr305;1.3.9 from central in [default]\n",
      "\tcom.google.errorprone#error_prone_annotations;2.1.3 from central in [default]\n",
      "\tcom.google.guava#guava;24.1.1-jre from central in [default]\n",
      "\tcom.google.j2objc#j2objc-annotations;1.1 from central in [default]\n",
      "\tcom.microsoft.azure#azure-keyvault-core;1.2.4 from central in [default]\n",
      "\tcom.microsoft.azure#azure-storage;8.6.6 from central in [default]\n",
      "\tcommons-codec#commons-codec;1.11 from central in [default]\n",
      "\tcommons-logging#commons-logging;1.1.3 from central in [default]\n",
      "\torg.apache.commons#commons-lang3;3.4 from central in [default]\n",
      "\torg.apache.hadoop#hadoop-azure;3.3.1 from central in [default]\n",
      "\torg.apache.hadoop.thirdparty#hadoop-shaded-guava;1.1.1 from central in [default]\n",
      "\torg.apache.httpcomponents#httpclient;4.5.13 from central in [default]\n",
      "\torg.apache.httpcomponents#httpcore;4.4.13 from central in [default]\n",
      "\torg.checkerframework#checker-compat-qual;2.0.0 from central in [default]\n",
      "\torg.checkerframework#checker-qual;3.42.0 from central in [default]\n",
      "\torg.codehaus.jackson#jackson-core-asl;1.9.13 from central in [default]\n",
      "\torg.codehaus.jackson#jackson-mapper-asl;1.9.13 from central in [default]\n",
      "\torg.codehaus.mojo#animal-sniffer-annotations;1.14 from central in [default]\n",
      "\torg.eclipse.jetty#jetty-util;9.4.40.v20210413 from central in [default]\n",
      "\torg.eclipse.jetty#jetty-util-ajax;9.4.40.v20210413 from central in [default]\n",
      "\torg.postgresql#postgresql;42.7.3 from central in [default]\n",
      "\torg.slf4j#slf4j-api;1.7.12 from central in [default]\n",
      "\torg.wildfly.openssl#wildfly-openssl;1.0.7.Final from central in [default]\n",
      "\t:: evicted modules:\n",
      "\tcom.microsoft.azure#azure-storage;7.0.1 by [com.microsoft.azure#azure-storage;8.6.6] in [default]\n",
      "\torg.apache.commons#commons-lang3;3.8.1 by [org.apache.commons#commons-lang3;3.4] in [default]\n",
      "\t---------------------------------------------------------------------\n",
      "\t|                  |            modules            ||   artifacts   |\n",
      "\t|       conf       | number| search|dwnlded|evicted|| number|dwnlded|\n",
      "\t---------------------------------------------------------------------\n",
      "\t|      default     |   26  |   2   |   2   |   2   ||   24  |   2   |\n",
      "\t---------------------------------------------------------------------\n",
      ":: retrieving :: org.apache.spark#spark-submit-parent-dc675932-20d1-42f8-bb45-9d1d0fca920c\n",
      "\tconfs: [default]\n",
      "\t2 artifacts copied, 22 already retrieved (1289kB/224ms)\n",
      "24/08/21 13:36:35 WARN NativeCodeLoader: Unable to load native-hadoop library for your platform... using builtin-java classes where applicable\n",
      "Setting default log level to \"WARN\".\n",
      "To adjust logging level use sc.setLogLevel(newLevel). For SparkR, use setLogLevel(newLevel).\n",
      "24/08/21 13:37:15 WARN GarbageCollectionMetrics: To enable non-built-in garbage collector(s) List(G1 Concurrent GC), users should configure it(them) to spark.eventLog.gcMetrics.youngGenerationGarbageCollectors or spark.eventLog.gcMetrics.oldGenerationGarbageCollectors\n",
      "24/08/21 13:37:15 ERROR Inbox: Ignoring error\n",
      "java.lang.NullPointerException: Cannot invoke \"org.apache.spark.storage.BlockManagerId.executorId()\" because \"idWithoutTopologyInfo\" is null\n",
      "\tat org.apache.spark.storage.BlockManagerMasterEndpoint.org$apache$spark$storage$BlockManagerMasterEndpoint$$register(BlockManagerMasterEndpoint.scala:677)\n",
      "\tat org.apache.spark.storage.BlockManagerMasterEndpoint$$anonfun$receiveAndReply$1.applyOrElse(BlockManagerMasterEndpoint.scala:133)\n",
      "\tat org.apache.spark.rpc.netty.Inbox.$anonfun$process$1(Inbox.scala:103)\n",
      "\tat org.apache.spark.rpc.netty.Inbox.safelyCall(Inbox.scala:213)\n",
      "\tat org.apache.spark.rpc.netty.Inbox.process(Inbox.scala:100)\n",
      "\tat org.apache.spark.rpc.netty.MessageLoop.org$apache$spark$rpc$netty$MessageLoop$$receiveLoop(MessageLoop.scala:75)\n",
      "\tat org.apache.spark.rpc.netty.MessageLoop$$anon$1.run(MessageLoop.scala:41)\n",
      "\tat java.base/java.util.concurrent.ThreadPoolExecutor.runWorker(ThreadPoolExecutor.java:1144)\n",
      "\tat java.base/java.util.concurrent.ThreadPoolExecutor$Worker.run(ThreadPoolExecutor.java:642)\n",
      "\tat java.base/java.lang.Thread.run(Thread.java:1570)\n",
      "24/08/21 13:37:15 WARN Executor: Issue communicating with driver in heartbeater\n",
      "org.apache.spark.SparkException: Exception thrown in awaitResult: \n",
      "\tat org.apache.spark.util.SparkThreadUtils$.awaitResult(SparkThreadUtils.scala:56)\n",
      "\tat org.apache.spark.util.ThreadUtils$.awaitResult(ThreadUtils.scala:310)\n",
      "\tat org.apache.spark.rpc.RpcTimeout.awaitResult(RpcTimeout.scala:75)\n",
      "\tat org.apache.spark.rpc.RpcEndpointRef.askSync(RpcEndpointRef.scala:101)\n",
      "\tat org.apache.spark.rpc.RpcEndpointRef.askSync(RpcEndpointRef.scala:85)\n",
      "\tat org.apache.spark.storage.BlockManagerMaster.registerBlockManager(BlockManagerMaster.scala:80)\n",
      "\tat org.apache.spark.storage.BlockManager.reregister(BlockManager.scala:642)\n",
      "\tat org.apache.spark.executor.Executor.reportHeartBeat(Executor.scala:1223)\n",
      "\tat org.apache.spark.executor.Executor.$anonfun$heartbeater$1(Executor.scala:295)\n",
      "\tat scala.runtime.java8.JFunction0$mcV$sp.apply(JFunction0$mcV$sp.java:23)\n",
      "\tat org.apache.spark.util.Utils$.logUncaughtExceptions(Utils.scala:1928)\n",
      "\tat org.apache.spark.Heartbeater$$anon$1.run(Heartbeater.scala:46)\n",
      "\tat java.base/java.util.concurrent.Executors$RunnableAdapter.call(Executors.java:572)\n",
      "\tat java.base/java.util.concurrent.FutureTask.runAndReset(FutureTask.java:358)\n",
      "\tat java.base/java.util.concurrent.ScheduledThreadPoolExecutor$ScheduledFutureTask.run(ScheduledThreadPoolExecutor.java:305)\n",
      "\tat java.base/java.util.concurrent.ThreadPoolExecutor.runWorker(ThreadPoolExecutor.java:1144)\n",
      "\tat java.base/java.util.concurrent.ThreadPoolExecutor$Worker.run(ThreadPoolExecutor.java:642)\n",
      "\tat java.base/java.lang.Thread.run(Thread.java:1570)\n",
      "Caused by: java.lang.NullPointerException: Cannot invoke \"org.apache.spark.storage.BlockManagerId.executorId()\" because \"idWithoutTopologyInfo\" is null\n",
      "\tat org.apache.spark.storage.BlockManagerMasterEndpoint.org$apache$spark$storage$BlockManagerMasterEndpoint$$register(BlockManagerMasterEndpoint.scala:677)\n",
      "\tat org.apache.spark.storage.BlockManagerMasterEndpoint$$anonfun$receiveAndReply$1.applyOrElse(BlockManagerMasterEndpoint.scala:133)\n",
      "\tat org.apache.spark.rpc.netty.Inbox.$anonfun$process$1(Inbox.scala:103)\n",
      "\tat org.apache.spark.rpc.netty.Inbox.safelyCall(Inbox.scala:213)\n",
      "\tat org.apache.spark.rpc.netty.Inbox.process(Inbox.scala:100)\n",
      "\tat org.apache.spark.rpc.netty.MessageLoop.org$apache$spark$rpc$netty$MessageLoop$$receiveLoop(MessageLoop.scala:75)\n",
      "\tat org.apache.spark.rpc.netty.MessageLoop$$anon$1.run(MessageLoop.scala:41)\n",
      "\t... 3 more\n"
     ]
    }
   ],
   "source": [
    "spark = (\n",
    "    pyspark.sql\n",
    "    .SparkSession\n",
    "    .builder\n",
    "    .appName(\"Python\")\n",
    "    .config(\"spark.jars.packages\", \"org.apache.hadoop:hadoop-azure:3.3.1,com.microsoft.azure:azure-storage:8.6.6,org.postgresql:postgresql:42.7.3\")\n",
    "    .getOrCreate()\n",
    ")"
   ]
  },
  {
   "cell_type": "markdown",
   "id": "48ccf71d-eec5-4ce4-b95f-cb1325b2f69f",
   "metadata": {},
   "source": [
    "## Load records CSV"
   ]
  },
  {
   "cell_type": "code",
   "execution_count": 4,
   "id": "43e6e6c8-2947-497e-a6f3-5861a62416a7",
   "metadata": {},
   "outputs": [],
   "source": [
    "schema = StructType([\n",
    "    StructField(\"reference\", IntegerType(), False), \n",
    "    StructField(\"account_number\", StringType(), False),\n",
    "    StructField(\"description\", StringType(), False),\n",
    "    StructField(\"start_balance\", FloatType(), False),\n",
    "    StructField(\"mutation\", FloatType(), False),\n",
    "    StructField(\"end_balance\", FloatType(), False)\n",
    "])"
   ]
  },
  {
   "cell_type": "code",
   "execution_count": 5,
   "id": "c50f0e6f-5073-473f-af34-448f9b676f44",
   "metadata": {},
   "outputs": [
    {
     "name": "stderr",
     "output_type": "stream",
     "text": [
      "                                                                                \r"
     ]
    },
    {
     "name": "stdout",
     "output_type": "stream",
     "text": [
      "+---------+------------------+--------------------+-------------+--------+-----------+\n",
      "|reference|    account_number|         description|start_balance|mutation|end_balance|\n",
      "+---------+------------------+--------------------+-------------+--------+-----------+\n",
      "|     NULL|    Account Number|         Description|         NULL|    NULL|       NULL|\n",
      "|   176104|NL32RABO0195610843|Flowers for Peter...|       101.84|   13.76|      115.6|\n",
      "|   112806|NL69ABNA0433647324|Subscription from...|         10.2|   -47.4|      -37.2|\n",
      "|   109169|NL91RABO0315273637|Tickets from Vinc...|        80.53|  -23.66|      56.87|\n",
      "|   156539|NL43AEGO0773393871|Candy for Jan Bakker|        88.22|    3.82|      92.04|\n",
      "|   112806|NL32RABO0195610843|Flowers for Wille...|        16.59|   -7.37|       9.22|\n",
      "|   112806|NL69ABNA0433647324|Flowers for Danië...|         37.1|   28.81|      65.91|\n",
      "|   178261|NL27SNSB0917829871|Subscription from...|        50.75|  -21.65|       29.1|\n",
      "|   100723|NL93ABNA0585619023|Tickets from Dani...|        77.91|   47.13|     125.04|\n",
      "|   145361|NL93ABNA0585619023|Candy for Erik De...|        26.67|    3.35|      30.02|\n",
      "|   119481|NL56RABO0149876948|Candy for Daniël ...|        78.45|  -28.99|      49.46|\n",
      "+---------+------------------+--------------------+-------------+--------+-----------+\n",
      "\n"
     ]
    }
   ],
   "source": [
    "records = (\n",
    "    spark.read\n",
    "    .option(\"encoding\", \"ISO-8859-1\")\n",
    "    .schema(schema)\n",
    "    .format(\"csv\")\n",
    "    .load(\"../assignment/records 1.csv\")\n",
    ")\n",
    "records.show()"
   ]
  },
  {
   "cell_type": "code",
   "execution_count": 6,
   "id": "82cfcf8b-352a-4166-a322-543e7040efc0",
   "metadata": {},
   "outputs": [
    {
     "name": "stdout",
     "output_type": "stream",
     "text": [
      "root\n",
      " |-- reference: integer (nullable = true)\n",
      " |-- account_number: string (nullable = true)\n",
      " |-- description: string (nullable = true)\n",
      " |-- start_balance: float (nullable = true)\n",
      " |-- mutation: float (nullable = true)\n",
      " |-- end_balance: float (nullable = true)\n",
      "\n"
     ]
    }
   ],
   "source": [
    "# step not necessarily needed\n",
    "records.printSchema()"
   ]
  },
  {
   "cell_type": "markdown",
   "id": "3f969c0a-572e-436f-a375-687ee7b8d5e7",
   "metadata": {},
   "source": [
    "## Validations\n",
    "1. all transaction references should be unique\n",
    "2. the end balance needs to be validated"
   ]
  },
  {
   "cell_type": "code",
   "execution_count": 7,
   "id": "019ead25-2f9e-4f25-823f-27599581b51e",
   "metadata": {},
   "outputs": [],
   "source": [
    "# all transaction references should be unique\n",
    "reference_count = records.groupby(\"reference\").count().withColumnRenamed(\"count\", \"reference_count\")"
   ]
  },
  {
   "cell_type": "code",
   "execution_count": 8,
   "id": "625684e0-8376-4e6d-9053-290e61a804af",
   "metadata": {},
   "outputs": [],
   "source": [
    "# the end balance needs to be validated\n",
    "records = records.withColumn(\"validated_end_balance\", F.round(F.col(\"start_balance\") + F.col(\"mutation\"), 2))"
   ]
  },
  {
   "cell_type": "code",
   "execution_count": 9,
   "id": "7b09829e-51f5-41ec-8e6c-a6e8e18c6e86",
   "metadata": {},
   "outputs": [],
   "source": [
    "records = records.join(reference_count, \"reference\", \"left\")"
   ]
  },
  {
   "cell_type": "markdown",
   "id": "4d0f9408-aef3-4281-9b01-851bc758bc9f",
   "metadata": {},
   "source": [
    "## Connect to Database"
   ]
  },
  {
   "cell_type": "code",
   "execution_count": 14,
   "id": "d9b6172a-3fe1-4b8e-a133-9b0398c8705f",
   "metadata": {},
   "outputs": [],
   "source": [
    "mode = \"append\"\n",
    "url = \"jdbc:postgresql://127.0.0.1:5432/postgres\"\n",
    "properties = {\"user\": \"postgres\", \"password\": \"postgres\", \"driver\": \"org.postgresql.Driver\"}"
   ]
  },
  {
   "cell_type": "markdown",
   "id": "3b299084-0b99-4864-a8a9-4932ab154ce6",
   "metadata": {},
   "source": [
    "### Insert validated records into records table"
   ]
  },
  {
   "cell_type": "code",
   "execution_count": 17,
   "id": "7d07efbd-8453-402e-a7c8-5c11e3617b64",
   "metadata": {},
   "outputs": [],
   "source": [
    "validated = records.where((records.reference_count == 1) & (records.validated_end_balance == records.end_balance))\n",
    "validated = validated.select(\"reference\", \"account_number\", \"description\", \"start_balance\", \"mutation\", \"end_balance\")\n",
    "validated.write.jdbc(url=url, table=\"validated_records\", mode=mode, properties=properties)"
   ]
  },
  {
   "cell_type": "markdown",
   "id": "a404ae8d-f13e-4824-b40c-2a78a752f377",
   "metadata": {},
   "source": [
    "### Insert failed records into invalid records table"
   ]
  },
  {
   "cell_type": "code",
   "execution_count": 18,
   "id": "91741bbb-811f-4fd9-8556-a17e58c1a5e0",
   "metadata": {},
   "outputs": [],
   "source": [
    "invalid = records.where((records.reference_count > 1) | (records.validated_end_balance != records.end_balance))\n",
    "invalid = invalid.select(\"reference\", \"account_number\", \"description\", \"start_balance\", \"mutation\", \"end_balance\")\n",
    "invalid.write.jdbc(url=url, table=\"invalid_records\", mode=mode, properties=properties)"
   ]
  }
 ],
 "metadata": {
  "kernelspec": {
   "display_name": "Python 3 (ipykernel)",
   "language": "python",
   "name": "python3"
  },
  "language_info": {
   "codemirror_mode": {
    "name": "ipython",
    "version": 3
   },
   "file_extension": ".py",
   "mimetype": "text/x-python",
   "name": "python",
   "nbconvert_exporter": "python",
   "pygments_lexer": "ipython3",
   "version": "3.12.4"
  }
 },
 "nbformat": 4,
 "nbformat_minor": 5
}
