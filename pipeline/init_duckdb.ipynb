{
 "cells": [
  {
   "cell_type": "code",
   "execution_count": 4,
   "id": "c1b47807-43a7-4a87-af0e-45fe4240e1c8",
   "metadata": {},
   "outputs": [],
   "source": [
    "import duckdb"
   ]
  },
  {
   "cell_type": "markdown",
   "id": "9147a4ff-b49b-4f9b-88c6-5dfd1f87d662",
   "metadata": {},
   "source": [
    "## Create initial table"
   ]
  },
  {
   "cell_type": "code",
   "execution_count": 1,
   "id": "a1ff1d90-0359-4812-9209-6f60835f29d9",
   "metadata": {},
   "outputs": [],
   "source": [
    "schema = \"\"\"\n",
    "(\n",
    "    reference INTEGER PRIMARY KEY, \n",
    "    account_number VARCHAR,\n",
    "    description VARCHAR,\n",
    "    start_balance FLOAT,\n",
    "    mutation FLOAT,\n",
    "    end_balance FLOAT\n",
    ")\n",
    "\"\"\""
   ]
  },
  {
   "cell_type": "code",
   "execution_count": 2,
   "id": "462842c9-d6d9-49c1-9e2f-98b23f42e125",
   "metadata": {},
   "outputs": [],
   "source": [
    "schema_invalid = \"\"\"\n",
    "(\n",
    "    reference INTEGER,\n",
    "    account_number VARCHAR,\n",
    "    description VARCHAR,\n",
    "    start_balance FLOAT,\n",
    "    mutation FLOAT,\n",
    "    end_balance FLOAT\n",
    ")\n",
    "\"\"\""
   ]
  },
  {
   "cell_type": "code",
   "execution_count": 6,
   "id": "1d70c4b2-15d9-4b08-bd0c-ef1e560eba37",
   "metadata": {},
   "outputs": [
    {
     "name": "stdout",
     "output_type": "stream",
     "text": [
      "┌───────────┬────────────────┬─────────────┬───────────────┬──────────┬─────────────┐\n",
      "│ reference │ account_number │ description │ start_balance │ mutation │ end_balance │\n",
      "│   int32   │    varchar     │   varchar   │     float     │  float   │    float    │\n",
      "├───────────┴────────────────┴─────────────┴───────────────┴──────────┴─────────────┤\n",
      "│                                      0 rows                                       │\n",
      "└───────────────────────────────────────────────────────────────────────────────────┘\n",
      "\n",
      "┌───────────┬────────────────┬─────────────┬───────────────┬──────────┬─────────────┐\n",
      "│ reference │ account_number │ description │ start_balance │ mutation │ end_balance │\n",
      "│   int32   │    varchar     │   varchar   │     float     │  float   │    float    │\n",
      "├───────────┴────────────────┴─────────────┴───────────────┴──────────┴─────────────┤\n",
      "│                                      0 rows                                       │\n",
      "└───────────────────────────────────────────────────────────────────────────────────┘\n",
      "\n"
     ]
    }
   ],
   "source": [
    "with duckdb.connect(\"../database/records.db\") as con:\n",
    "    con.sql(\"drop table if exists validated_records\")\n",
    "    con.sql(\"drop table if exists invalid_records\")\n",
    "    con.sql(f\"create table if not exists validated_records {schema}\")\n",
    "    con.sql(f\"create table if not exists invalid_records {schema_invalid}\")\n",
    "    con.table(\"validated_records\").show()\n",
    "    con.table(\"invalid_records\").show()"
   ]
  }
 ],
 "metadata": {
  "kernelspec": {
   "display_name": "Python 3 (ipykernel)",
   "language": "python",
   "name": "python3"
  },
  "language_info": {
   "codemirror_mode": {
    "name": "ipython",
    "version": 3
   },
   "file_extension": ".py",
   "mimetype": "text/x-python",
   "name": "python",
   "nbconvert_exporter": "python",
   "pygments_lexer": "ipython3",
   "version": "3.12.4"
  }
 },
 "nbformat": 4,
 "nbformat_minor": 5
}
