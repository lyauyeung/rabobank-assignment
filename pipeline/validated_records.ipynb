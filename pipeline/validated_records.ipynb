{
 "cells": [
  {
   "cell_type": "markdown",
   "id": "a9611fa5-8946-4a82-a384-39d0af41199f",
   "metadata": {},
   "source": [
    "# Validate Records"
   ]
  },
  {
   "cell_type": "code",
   "execution_count": 1,
   "id": "ea662495-80a2-4ec2-83ee-03f572209668",
   "metadata": {},
   "outputs": [],
   "source": [
    "import findspark\n",
    "findspark.init()\n",
    "import pyspark\n",
    "import pyspark.sql.functions as F\n",
    "\n",
    "from pyspark.sql.types import *\n",
    "\n",
    "import duckdb"
   ]
  },
  {
   "cell_type": "code",
   "execution_count": 2,
   "id": "c36220ae-03bf-4395-bac0-811cce7512bd",
   "metadata": {},
   "outputs": [
    {
     "name": "stderr",
     "output_type": "stream",
     "text": [
      "Setting default log level to \"WARN\".\n",
      "To adjust logging level use sc.setLogLevel(newLevel). For SparkR, use setLogLevel(newLevel).\n",
      "24/08/20 16:08:53 WARN NativeCodeLoader: Unable to load native-hadoop library for your platform... using builtin-java classes where applicable\n",
      "24/08/20 16:08:53 WARN Utils: Service 'SparkUI' could not bind on port 4040. Attempting port 4041.\n"
     ]
    }
   ],
   "source": [
    "spark = pyspark.sql.SparkSession.builder.appName(\"Python\").getOrCreate()"
   ]
  },
  {
   "cell_type": "markdown",
   "id": "48ccf71d-eec5-4ce4-b95f-cb1325b2f69f",
   "metadata": {},
   "source": [
    "## Load records CSV"
   ]
  },
  {
   "cell_type": "code",
   "execution_count": 3,
   "id": "43e6e6c8-2947-497e-a6f3-5861a62416a7",
   "metadata": {},
   "outputs": [],
   "source": [
    "schema = StructType([\n",
    "    StructField(\"reference\", IntegerType(), False), \n",
    "    StructField(\"account_number\", StringType(), False),\n",
    "    StructField(\"description\", StringType(), False),\n",
    "    StructField(\"start_balance\", FloatType(), False),\n",
    "    StructField(\"mutation\", FloatType(), False),\n",
    "    StructField(\"end_balance\", FloatType(), False)\n",
    "])"
   ]
  },
  {
   "cell_type": "code",
   "execution_count": 4,
   "id": "c50f0e6f-5073-473f-af34-448f9b676f44",
   "metadata": {},
   "outputs": [
    {
     "name": "stdout",
     "output_type": "stream",
     "text": [
      "+---------+------------------+--------------------+-------------+--------+-----------+\n",
      "|reference|    account_number|         description|start_balance|mutation|end_balance|\n",
      "+---------+------------------+--------------------+-------------+--------+-----------+\n",
      "|     NULL|    Account Number|         Description|         NULL|    NULL|       NULL|\n",
      "|   176104|NL32RABO0195610843|Flowers for Peter...|       101.84|   13.76|      115.6|\n",
      "|   112806|NL69ABNA0433647324|Subscription from...|         10.2|   -47.4|      -37.2|\n",
      "|   109169|NL91RABO0315273637|Tickets from Vinc...|        80.53|  -23.66|      56.87|\n",
      "|   156539|NL43AEGO0773393871|Candy for Jan Bakker|        88.22|    3.82|      92.04|\n",
      "|   112806|NL32RABO0195610843|Flowers for Wille...|        16.59|   -7.37|       9.22|\n",
      "|   112806|NL69ABNA0433647324|Flowers for Danië...|         37.1|   28.81|      65.91|\n",
      "|   178261|NL27SNSB0917829871|Subscription from...|        50.75|  -21.65|       29.1|\n",
      "|   100723|NL93ABNA0585619023|Tickets from Dani...|        77.91|   47.13|     125.04|\n",
      "|   145361|NL93ABNA0585619023|Candy for Erik De...|        26.67|    3.35|      30.02|\n",
      "|   119481|NL56RABO0149876948|Candy for Daniël ...|        78.45|  -28.99|      49.46|\n",
      "+---------+------------------+--------------------+-------------+--------+-----------+\n",
      "\n"
     ]
    }
   ],
   "source": [
    "records = (\n",
    "    spark.read\n",
    "    .option(\"encoding\", \"ISO-8859-1\")\n",
    "    .schema(schema)\n",
    "    .csv(\"../assignment/records 1.csv\")\n",
    ")\n",
    "records.show()"
   ]
  },
  {
   "cell_type": "code",
   "execution_count": 5,
   "id": "82cfcf8b-352a-4166-a322-543e7040efc0",
   "metadata": {},
   "outputs": [
    {
     "name": "stdout",
     "output_type": "stream",
     "text": [
      "root\n",
      " |-- reference: integer (nullable = true)\n",
      " |-- account_number: string (nullable = true)\n",
      " |-- description: string (nullable = true)\n",
      " |-- start_balance: float (nullable = true)\n",
      " |-- mutation: float (nullable = true)\n",
      " |-- end_balance: float (nullable = true)\n",
      "\n"
     ]
    }
   ],
   "source": [
    "# step not necessarily needed\n",
    "records.printSchema()"
   ]
  },
  {
   "cell_type": "markdown",
   "id": "3f969c0a-572e-436f-a375-687ee7b8d5e7",
   "metadata": {},
   "source": [
    "## Validations\n",
    "1. all transaction references should be unique\n",
    "2. the end balance needs to be validated"
   ]
  },
  {
   "cell_type": "code",
   "execution_count": 6,
   "id": "019ead25-2f9e-4f25-823f-27599581b51e",
   "metadata": {},
   "outputs": [],
   "source": [
    "# all transaction references should be unique\n",
    "reference_count = records.groupby(\"reference\").count().withColumnRenamed(\"count\", \"reference_count\")"
   ]
  },
  {
   "cell_type": "code",
   "execution_count": 7,
   "id": "625684e0-8376-4e6d-9053-290e61a804af",
   "metadata": {},
   "outputs": [],
   "source": [
    "# the end balance needs to be validated\n",
    "records = records.withColumn(\"validated_end_balance\", F.round(F.col(\"start_balance\") + F.col(\"mutation\"), 2))"
   ]
  },
  {
   "cell_type": "code",
   "execution_count": 8,
   "id": "7b09829e-51f5-41ec-8e6c-a6e8e18c6e86",
   "metadata": {},
   "outputs": [],
   "source": [
    "records = records.join(reference_count, \"reference\", \"left\")"
   ]
  },
  {
   "cell_type": "markdown",
   "id": "4d0f9408-aef3-4281-9b01-851bc758bc9f",
   "metadata": {},
   "source": [
    "## Connect to Database"
   ]
  },
  {
   "cell_type": "code",
   "execution_count": 9,
   "id": "d9b6172a-3fe1-4b8e-a133-9b0398c8705f",
   "metadata": {},
   "outputs": [],
   "source": [
    "con = duckdb.connect(\"../database/records.db\")"
   ]
  },
  {
   "cell_type": "markdown",
   "id": "3b299084-0b99-4864-a8a9-4932ab154ce6",
   "metadata": {},
   "source": [
    "### Insert validated records into records table"
   ]
  },
  {
   "cell_type": "code",
   "execution_count": 10,
   "id": "7d07efbd-8453-402e-a7c8-5c11e3617b64",
   "metadata": {},
   "outputs": [],
   "source": [
    "validated = records.where((records.reference_count == 1) & (records.validated_end_balance == records.end_balance))\n",
    "\n",
    "# DuckDB Spark API is still in experimental phase, therefore conversion to pandas is needed\n",
    "validated_df = validated.select(\"reference\", \"account_number\", \"description\", \"start_balance\", \"mutation\", \"end_balance\").toPandas()"
   ]
  },
  {
   "cell_type": "code",
   "execution_count": 11,
   "id": "fd736c32-2577-4488-917e-e61fbc4de63f",
   "metadata": {},
   "outputs": [
    {
     "data": {
      "text/plain": [
       "┌───────────┬────────────────────┬───────────────────────────────┬───────────────┬──────────┬─────────────┐\n",
       "│ reference │   account_number   │          description          │ start_balance │ mutation │ end_balance │\n",
       "│   int32   │      varchar       │            varchar            │     float     │  float   │    float    │\n",
       "├───────────┼────────────────────┼───────────────────────────────┼───────────────┼──────────┼─────────────┤\n",
       "│    176104 │ NL32RABO0195610843 │ Flowers for Peter King        │        101.84 │    13.76 │       115.6 │\n",
       "│    109169 │ NL91RABO0315273637 │ Tickets from Vincent de Vries │         80.53 │   -23.66 │       56.87 │\n",
       "│    156539 │ NL43AEGO0773393871 │ Candy for Jan Bakker          │         88.22 │     3.82 │       92.04 │\n",
       "│    178261 │ NL27SNSB0917829871 │ Subscription from Rik Dekker  │         50.75 │   -21.65 │        29.1 │\n",
       "│    100723 │ NL93ABNA0585619023 │ Tickets from Daniël de Vries  │         77.91 │    47.13 │      125.04 │\n",
       "│    145361 │ NL93ABNA0585619023 │ Candy for Erik Dekker         │         26.67 │     3.35 │       30.02 │\n",
       "│    119481 │ NL56RABO0149876948 │ Candy for Daniël de Vries     │         78.45 │   -28.99 │       49.46 │\n",
       "└───────────┴────────────────────┴───────────────────────────────┴───────────────┴──────────┴─────────────┘"
      ]
     },
     "execution_count": 11,
     "metadata": {},
     "output_type": "execute_result"
    }
   ],
   "source": [
    "con.sql(\"insert into validated_records select * from validated_df on conflict do nothing\")\n",
    "con.sql(\"select * from validated_records\")"
   ]
  },
  {
   "cell_type": "markdown",
   "id": "a404ae8d-f13e-4824-b40c-2a78a752f377",
   "metadata": {},
   "source": [
    "### Insert failed records into invalid records table"
   ]
  },
  {
   "cell_type": "code",
   "execution_count": 12,
   "id": "91741bbb-811f-4fd9-8556-a17e58c1a5e0",
   "metadata": {},
   "outputs": [],
   "source": [
    "invalid = records.where((records.reference_count > 1) | (records.validated_end_balance != records.end_balance))\n",
    "\n",
    "# DuckDB Spark API is still in experimental phase, therefore conversion to pandas is needed\n",
    "invalid_df = invalid.select(\"reference\", \"account_number\", \"description\", \"start_balance\", \"mutation\", \"end_balance\").toPandas()"
   ]
  },
  {
   "cell_type": "code",
   "execution_count": 13,
   "id": "edf24521-24b1-4a4c-bc56-d2e2dd6b51e2",
   "metadata": {},
   "outputs": [
    {
     "data": {
      "text/plain": [
       "┌───────────┬────────────────────┬─────────────────────────────┬───────────────┬──────────┬─────────────┐\n",
       "│ reference │   account_number   │         description         │ start_balance │ mutation │ end_balance │\n",
       "│   int32   │      varchar       │           varchar           │     float     │  float   │    float    │\n",
       "├───────────┼────────────────────┼─────────────────────────────┼───────────────┼──────────┼─────────────┤\n",
       "│    112806 │ NL69ABNA0433647324 │ Subscription from Rik Theuß │          10.2 │    -47.4 │       -37.2 │\n",
       "│    112806 │ NL32RABO0195610843 │ Flowers for Willem de Vries │         16.59 │    -7.37 │        9.22 │\n",
       "│    112806 │ NL69ABNA0433647324 │ Flowers for Daniël de Vries │          37.1 │    28.81 │       65.91 │\n",
       "└───────────┴────────────────────┴─────────────────────────────┴───────────────┴──────────┴─────────────┘"
      ]
     },
     "execution_count": 13,
     "metadata": {},
     "output_type": "execute_result"
    }
   ],
   "source": [
    "con.sql(\"insert into invalid_records select * from invalid_df\")\n",
    "con.sql(\"select * from invalid_records\")"
   ]
  },
  {
   "cell_type": "markdown",
   "id": "b57795e3-e550-4d47-a404-1b3e2c51bdba",
   "metadata": {},
   "source": [
    "### Close Database Connection"
   ]
  },
  {
   "cell_type": "code",
   "execution_count": 14,
   "id": "880135e9-0bf5-4bc8-8f78-a7be1de2c9f1",
   "metadata": {},
   "outputs": [
    {
     "name": "stderr",
     "output_type": "stream",
     "text": [
      "24/08/20 16:09:04 WARN GarbageCollectionMetrics: To enable non-built-in garbage collector(s) List(G1 Concurrent GC), users should configure it(them) to spark.eventLog.gcMetrics.youngGenerationGarbageCollectors or spark.eventLog.gcMetrics.oldGenerationGarbageCollectors\n"
     ]
    }
   ],
   "source": [
    "con.close()"
   ]
  }
 ],
 "metadata": {
  "kernelspec": {
   "display_name": "Python 3 (ipykernel)",
   "language": "python",
   "name": "python3"
  },
  "language_info": {
   "codemirror_mode": {
    "name": "ipython",
    "version": 3
   },
   "file_extension": ".py",
   "mimetype": "text/x-python",
   "name": "python",
   "nbconvert_exporter": "python",
   "pygments_lexer": "ipython3",
   "version": "3.12.4"
  }
 },
 "nbformat": 4,
 "nbformat_minor": 5
}
